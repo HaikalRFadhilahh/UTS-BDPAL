{
 "cells": [
  {
   "cell_type": "markdown",
   "metadata": {},
   "source": [
    "<h1><b>BIG DATA PREDICTIVE ANALYTIC LANJUT (UTS)</b></h1>\n",
    "<ul>\n",
    "    <li><b>Nama : Haikal Raditya Fadhilah</b></li>\n",
    "    <li><b>NIM : 21.11.3910</b></li>\n",
    "    <li><b>Kelas : Informatika 02</b></li>\n",
    "</ul>"
   ]
  },
  {
   "cell_type": "markdown",
   "metadata": {},
   "source": [
    "<h2><b>IMPORT LIBRARY</b></h2>"
   ]
  },
  {
   "cell_type": "code",
   "execution_count": 56,
   "metadata": {},
   "outputs": [],
   "source": [
    "import pyspark\n",
    "from pyspark.sql import SparkSession as f\n",
    "from pyspark.sql.functions import col, regexp_replace\n",
    "from pyspark.sql.functions import mode\n",
    "from pyspark.sql.functions import max"
   ]
  },
  {
   "cell_type": "markdown",
   "metadata": {},
   "source": [
    "<h2><b>CREATE SESSION PYSPARK</b></h2>"
   ]
  },
  {
   "cell_type": "code",
   "execution_count": 34,
   "metadata": {},
   "outputs": [],
   "source": [
    "spark = SparkSession.builder.getOrCreate()"
   ]
  },
  {
   "cell_type": "markdown",
   "metadata": {},
   "source": [
    "<h2><b>IMPORT DATASET</b></h2>"
   ]
  },
  {
   "cell_type": "code",
   "execution_count": 39,
   "metadata": {},
   "outputs": [],
   "source": [
    "df = spark.read.format('csv')\\\n",
    "    .option(\"wholeFile\",'true')\\\n",
    "    .option('header','true')\\\n",
    "        .option('inferSchema','true')\\\n",
    "            .option('multiline','true')\\\n",
    "                .option(\"quote\", \"\\\"\")\\\n",
    "                    .option(\"escape\", \"\\\"\")\\\n",
    "                        .load('./Spotify_Youtube.csv')\n",
    "df = df.withColumnRenamed('_c0','Index')"
   ]
  },
  {
   "cell_type": "markdown",
   "metadata": {},
   "source": [
    "<h2><b>EDA</b></h2>"
   ]
  },
  {
   "cell_type": "code",
   "execution_count": 41,
   "metadata": {},
   "outputs": [
    {
     "name": "stdout",
     "output_type": "stream",
     "text": [
      "+-----+--------+--------------------+--------------------+--------------------+----------+--------------------+------------+------+----+--------+-----------+------------+----------------+--------+-------+-------+-----------+--------------------+--------------------+--------+------------+---------+--------+--------------------+--------+--------------+----------+\n",
      "|Index|  Artist|         Url_spotify|               Track|               Album|Album_type|                 Uri|Danceability|Energy| Key|Loudness|Speechiness|Acousticness|Instrumentalness|Liveness|Valence|  Tempo|Duration_ms|         Url_youtube|               Title| Channel|       Views|    Likes|Comments|         Description|Licensed|official_video|    Stream|\n",
      "+-----+--------+--------------------+--------------------+--------------------+----------+--------------------+------------+------+----+--------+-----------+------------+----------------+--------+-------+-------+-----------+--------------------+--------------------+--------+------------+---------+--------+--------------------+--------+--------------+----------+\n",
      "|    0|Gorillaz|https://open.spot...|      Feel Good Inc.|          Demon Days|     album|spotify:track:0d2...|       0.818| 0.705| 6.0|  -6.679|      0.177|     0.00836|         0.00233|   0.613|  0.772|138.559|   222640.0|https://www.youtu...|Gorillaz - Feel G...|Gorillaz|6.93555221E8|6220896.0|169907.0|Official HD Video...|    true|          true|1040234854|\n",
      "|    1|Gorillaz|https://open.spot...|     Rhinestone Eyes|       Plastic Beach|     album|spotify:track:1fo...|       0.676| 0.703| 8.0|  -5.815|     0.0302|      0.0869|         6.87E-4|  0.0463|  0.852| 92.761|   200173.0|https://www.youtu...|Gorillaz - Rhines...|Gorillaz| 7.2011645E7|1079128.0| 31003.0|The official vide...|    true|          true| 310083733|\n",
      "|    2|Gorillaz|https://open.spot...|New Gold (feat. T...|New Gold (feat. T...|    single|spotify:track:64d...|       0.695| 0.923| 1.0|   -3.93|     0.0522|      0.0425|          0.0469|   0.116|  0.551|108.014|   215150.0|https://www.youtu...|Gorillaz - New Go...|Gorillaz|   8435055.0| 282142.0|  7399.0|Gorillaz - New Go...|    true|          true|  63063467|\n",
      "|    3|Gorillaz|https://open.spot...|  On Melancholy Hill|       Plastic Beach|     album|spotify:track:0q6...|       0.689| 0.739| 2.0|   -5.81|      0.026|     1.51E-5|           0.509|   0.064|  0.578|120.423|   233867.0|https://www.youtu...|Gorillaz - On Mel...|Gorillaz|2.11754952E8|1788577.0| 55229.0|Follow Gorillaz o...|    true|          true| 434663559|\n",
      "|    4|Gorillaz|https://open.spot...|      Clint Eastwood|            Gorillaz|     album|spotify:track:7yM...|       0.663| 0.694|10.0|  -8.627|      0.171|      0.0253|             0.0|  0.0698|  0.525|167.953|   340920.0|https://www.youtu...|Gorillaz - Clint ...|Gorillaz|6.18480958E8|6197318.0|155930.0|The official musi...|    true|          true| 617259738|\n",
      "+-----+--------+--------------------+--------------------+--------------------+----------+--------------------+------------+------+----+--------+-----------+------------+----------------+--------+-------+-------+-----------+--------------------+--------------------+--------+------------+---------+--------+--------------------+--------+--------------+----------+\n",
      "only showing top 5 rows\n",
      "\n"
     ]
    },
    {
     "name": "stderr",
     "output_type": "stream",
     "text": [
      "23/10/27 14:44:56 WARN CSVHeaderChecker: CSV header does not conform to the schema.\n",
      " Header: , Artist, Url_spotify, Track, Album, Album_type, Uri, Danceability, Energy, Key, Loudness, Speechiness, Acousticness, Instrumentalness, Liveness, Valence, Tempo, Duration_ms, Url_youtube, Title, Channel, Views, Likes, Comments, Description, Licensed, official_video, Stream\n",
      " Schema: _c0, Artist, Url_spotify, Track, Album, Album_type, Uri, Danceability, Energy, Key, Loudness, Speechiness, Acousticness, Instrumentalness, Liveness, Valence, Tempo, Duration_ms, Url_youtube, Title, Channel, Views, Likes, Comments, Description, Licensed, official_video, Stream\n",
      "Expected: _c0 but found: \n",
      "CSV file: file:///home/haik/Desktop/BDPAL%20UTS/Spotify_Youtube.csv\n"
     ]
    }
   ],
   "source": [
    "df.show(5)"
   ]
  },
  {
   "cell_type": "code",
   "execution_count": 42,
   "metadata": {},
   "outputs": [
    {
     "name": "stdout",
     "output_type": "stream",
     "text": [
      "root\n",
      " |-- Index: integer (nullable = true)\n",
      " |-- Artist: string (nullable = true)\n",
      " |-- Url_spotify: string (nullable = true)\n",
      " |-- Track: string (nullable = true)\n",
      " |-- Album: string (nullable = true)\n",
      " |-- Album_type: string (nullable = true)\n",
      " |-- Uri: string (nullable = true)\n",
      " |-- Danceability: double (nullable = true)\n",
      " |-- Energy: double (nullable = true)\n",
      " |-- Key: double (nullable = true)\n",
      " |-- Loudness: double (nullable = true)\n",
      " |-- Speechiness: double (nullable = true)\n",
      " |-- Acousticness: double (nullable = true)\n",
      " |-- Instrumentalness: double (nullable = true)\n",
      " |-- Liveness: double (nullable = true)\n",
      " |-- Valence: double (nullable = true)\n",
      " |-- Tempo: double (nullable = true)\n",
      " |-- Duration_ms: double (nullable = true)\n",
      " |-- Url_youtube: string (nullable = true)\n",
      " |-- Title: string (nullable = true)\n",
      " |-- Channel: string (nullable = true)\n",
      " |-- Views: double (nullable = true)\n",
      " |-- Likes: double (nullable = true)\n",
      " |-- Comments: double (nullable = true)\n",
      " |-- Description: string (nullable = true)\n",
      " |-- Licensed: boolean (nullable = true)\n",
      " |-- official_video: boolean (nullable = true)\n",
      " |-- Stream: long (nullable = true)\n",
      "\n"
     ]
    }
   ],
   "source": [
    "df.printSchema()"
   ]
  },
  {
   "cell_type": "code",
   "execution_count": 46,
   "metadata": {},
   "outputs": [
    {
     "name": "stderr",
     "output_type": "stream",
     "text": [
      "23/10/27 14:50:14 WARN CSVHeaderChecker: CSV header does not conform to the schema.\n",
      " Header: \n",
      " Schema: _c0\n",
      "Expected: _c0 but found: \n",
      "CSV file: file:///home/haik/Desktop/BDPAL%20UTS/Spotify_Youtube.csv\n"
     ]
    },
    {
     "data": {
      "text/plain": [
       "{'Index': 0,\n",
       " 'Artist': 0,\n",
       " 'Url_spotify': 0,\n",
       " 'Track': 0,\n",
       " 'Album': 0,\n",
       " 'Album_type': 0,\n",
       " 'Uri': 0,\n",
       " 'Danceability': 2,\n",
       " 'Energy': 2,\n",
       " 'Key': 2,\n",
       " 'Loudness': 2,\n",
       " 'Speechiness': 2,\n",
       " 'Acousticness': 2,\n",
       " 'Instrumentalness': 2,\n",
       " 'Liveness': 2,\n",
       " 'Valence': 2,\n",
       " 'Tempo': 2,\n",
       " 'Duration_ms': 2,\n",
       " 'Url_youtube': 470,\n",
       " 'Title': 470,\n",
       " 'Channel': 470,\n",
       " 'Views': 470,\n",
       " 'Likes': 541,\n",
       " 'Comments': 569,\n",
       " 'Description': 876,\n",
       " 'Licensed': 470,\n",
       " 'official_video': 470,\n",
       " 'Stream': 576}"
      ]
     },
     "execution_count": 46,
     "metadata": {},
     "output_type": "execute_result"
    }
   ],
   "source": [
    "Dict_Null = {col:df.filter(df[col].isNull()).count() for col in df.columns}\n",
    "Dict_Null"
   ]
  },
  {
   "cell_type": "code",
   "execution_count": null,
   "metadata": {},
   "outputs": [],
   "source": []
  }
 ],
 "metadata": {
  "kernelspec": {
   "display_name": "BigData",
   "language": "python",
   "name": "python3"
  },
  "language_info": {
   "codemirror_mode": {
    "name": "ipython",
    "version": 3
   },
   "file_extension": ".py",
   "mimetype": "text/x-python",
   "name": "python",
   "nbconvert_exporter": "python",
   "pygments_lexer": "ipython3",
   "version": "3.10.10"
  }
 },
 "nbformat": 4,
 "nbformat_minor": 2
}
