{
 "cells": [
  {
   "cell_type": "markdown",
   "metadata": {},
   "source": [
    "<h1><b>BIG DATA PREDICTIVE ANALYTIC LANJUT (UTS)</b></h1>\n",
    "<ul>\n",
    "    <li><b>Nama : Haikal Raditya Fadhilah</b></li>\n",
    "    <li><b>NIM : 21.11.3910</b></li>\n",
    "    <li><b>Kelas : Informatika 02</b></li>\n",
    "</ul>"
   ]
  },
  {
   "cell_type": "markdown",
   "metadata": {},
   "source": [
    "<h2><b>IMPORT LIBRARY</b></h2>"
   ]
  },
  {
   "cell_type": "code",
   "execution_count": 2,
   "metadata": {},
   "outputs": [],
   "source": [
    "import pyspark\n",
    "from pyspark.sql import SparkSession\n",
    "from pyspark.sql.functions import mean\n",
    "from pyspark.sql.types import StructField, StructType, StringType, IntegerType\n",
    "from operator import add"
   ]
  },
  {
   "cell_type": "markdown",
   "metadata": {},
   "source": [
    "<h2><b>CREATE SESSION PYSPARK</b></h2>"
   ]
  },
  {
   "cell_type": "code",
   "execution_count": 3,
   "metadata": {},
   "outputs": [
    {
     "name": "stderr",
     "output_type": "stream",
     "text": [
      "23/11/01 20:30:22 WARN Utils: Your hostname, Mini resolves to a loopback address: 127.0.1.1; using 192.168.88.242 instead (on interface wlp3s0)\n",
      "23/11/01 20:30:22 WARN Utils: Set SPARK_LOCAL_IP if you need to bind to another address\n",
      "Setting default log level to \"WARN\".\n",
      "To adjust logging level use sc.setLogLevel(newLevel). For SparkR, use setLogLevel(newLevel).\n",
      "23/11/01 20:30:24 WARN NativeCodeLoader: Unable to load native-hadoop library for your platform... using builtin-java classes where applicable\n"
     ]
    }
   ],
   "source": [
    "spark = SparkSession.builder.getOrCreate()"
   ]
  },
  {
   "cell_type": "markdown",
   "metadata": {},
   "source": [
    "<h2><b>IMPORT DATASET</b></h2>"
   ]
  },
  {
   "cell_type": "code",
   "execution_count": 4,
   "metadata": {},
   "outputs": [
    {
     "name": "stderr",
     "output_type": "stream",
     "text": [
      "                                                                                \r"
     ]
    }
   ],
   "source": [
    "df = spark.read.format('csv')\\\n",
    "    .option(\"wholeFile\",'true')\\\n",
    "    .option('header','true')\\\n",
    "        .option('inferSchema','true')\\\n",
    "            .option('multiline','true')\\\n",
    "                .option(\"quote\", \"\\\"\")\\\n",
    "                    .option(\"escape\", \"\\\"\")\\\n",
    "                        .load('./Spotify_Youtube.csv')\n",
    "df = df.withColumnRenamed('_c0','Index')"
   ]
  },
  {
   "cell_type": "markdown",
   "metadata": {},
   "source": [
    "<h4><b>PENJELASAN</b></h4>\n",
    "<p>Para perintah di atas merupakan cara membaca dataset dengan beberapa opsi tambahan agar dataset tidak hancur saat dibaca oleh Pyspark,Dengan Mengabaikan Enter untuk membuat baris baru pada dataset,dan juga mengabaikan Tanda String (\"\") untuk menjadi separator pada Dataframe</p>"
   ]
  },
  {
   "cell_type": "markdown",
   "metadata": {},
   "source": [
    "<h2><b>DATA PREPARATION</b></h2>"
   ]
  },
  {
   "cell_type": "markdown",
   "metadata": {},
   "source": [
    "<h3><b>1.Menampilkan 5 Barus Pertama Dalam Dataset</b></h3>"
   ]
  },
  {
   "cell_type": "code",
   "execution_count": 5,
   "metadata": {},
   "outputs": [
    {
     "name": "stderr",
     "output_type": "stream",
     "text": [
      "23/11/01 20:30:34 WARN package: Truncated the string representation of a plan since it was too large. This behavior can be adjusted by setting 'spark.sql.debug.maxToStringFields'.\n",
      "23/11/01 20:30:36 WARN CSVHeaderChecker: CSV header does not conform to the schema.\n",
      " Header: , Artist, Url_spotify, Track, Album, Album_type, Uri, Danceability, Energy, Key, Loudness, Speechiness, Acousticness, Instrumentalness, Liveness, Valence, Tempo, Duration_ms, Url_youtube, Title, Channel, Views, Likes, Comments, Description, Licensed, official_video, Stream\n",
      " Schema: _c0, Artist, Url_spotify, Track, Album, Album_type, Uri, Danceability, Energy, Key, Loudness, Speechiness, Acousticness, Instrumentalness, Liveness, Valence, Tempo, Duration_ms, Url_youtube, Title, Channel, Views, Likes, Comments, Description, Licensed, official_video, Stream\n",
      "Expected: _c0 but found: \n",
      "CSV file: file:///home/haik/Desktop/BDPAL%20UTS/Spotify_Youtube.csv\n"
     ]
    },
    {
     "name": "stdout",
     "output_type": "stream",
     "text": [
      "+-----+--------+--------------------+--------------------+--------------------+----------+--------------------+------------+------+----+--------+-----------+------------+----------------+--------+-------+-------+-----------+--------------------+--------------------+--------+------------+---------+--------+--------------------+--------+--------------+----------+\n",
      "|Index|  Artist|         Url_spotify|               Track|               Album|Album_type|                 Uri|Danceability|Energy| Key|Loudness|Speechiness|Acousticness|Instrumentalness|Liveness|Valence|  Tempo|Duration_ms|         Url_youtube|               Title| Channel|       Views|    Likes|Comments|         Description|Licensed|official_video|    Stream|\n",
      "+-----+--------+--------------------+--------------------+--------------------+----------+--------------------+------------+------+----+--------+-----------+------------+----------------+--------+-------+-------+-----------+--------------------+--------------------+--------+------------+---------+--------+--------------------+--------+--------------+----------+\n",
      "|    0|Gorillaz|https://open.spot...|      Feel Good Inc.|          Demon Days|     album|spotify:track:0d2...|       0.818| 0.705| 6.0|  -6.679|      0.177|     0.00836|         0.00233|   0.613|  0.772|138.559|   222640.0|https://www.youtu...|Gorillaz - Feel G...|Gorillaz|6.93555221E8|6220896.0|169907.0|Official HD Video...|    true|          true|1040234854|\n",
      "|    1|Gorillaz|https://open.spot...|     Rhinestone Eyes|       Plastic Beach|     album|spotify:track:1fo...|       0.676| 0.703| 8.0|  -5.815|     0.0302|      0.0869|         6.87E-4|  0.0463|  0.852| 92.761|   200173.0|https://www.youtu...|Gorillaz - Rhines...|Gorillaz| 7.2011645E7|1079128.0| 31003.0|The official vide...|    true|          true| 310083733|\n",
      "|    2|Gorillaz|https://open.spot...|New Gold (feat. T...|New Gold (feat. T...|    single|spotify:track:64d...|       0.695| 0.923| 1.0|   -3.93|     0.0522|      0.0425|          0.0469|   0.116|  0.551|108.014|   215150.0|https://www.youtu...|Gorillaz - New Go...|Gorillaz|   8435055.0| 282142.0|  7399.0|Gorillaz - New Go...|    true|          true|  63063467|\n",
      "|    3|Gorillaz|https://open.spot...|  On Melancholy Hill|       Plastic Beach|     album|spotify:track:0q6...|       0.689| 0.739| 2.0|   -5.81|      0.026|     1.51E-5|           0.509|   0.064|  0.578|120.423|   233867.0|https://www.youtu...|Gorillaz - On Mel...|Gorillaz|2.11754952E8|1788577.0| 55229.0|Follow Gorillaz o...|    true|          true| 434663559|\n",
      "|    4|Gorillaz|https://open.spot...|      Clint Eastwood|            Gorillaz|     album|spotify:track:7yM...|       0.663| 0.694|10.0|  -8.627|      0.171|      0.0253|             0.0|  0.0698|  0.525|167.953|   340920.0|https://www.youtu...|Gorillaz - Clint ...|Gorillaz|6.18480958E8|6197318.0|155930.0|The official musi...|    true|          true| 617259738|\n",
      "+-----+--------+--------------------+--------------------+--------------------+----------+--------------------+------------+------+----+--------+-----------+------------+----------------+--------+-------+-------+-----------+--------------------+--------------------+--------+------------+---------+--------+--------------------+--------+--------------+----------+\n",
      "only showing top 5 rows\n",
      "\n"
     ]
    }
   ],
   "source": [
    "df.show(5)"
   ]
  },
  {
   "cell_type": "markdown",
   "metadata": {},
   "source": [
    "<h3><b>2.Memeriksa Tipe Data Dari Setiap Kolom Dataset</b></h3>"
   ]
  },
  {
   "cell_type": "code",
   "execution_count": 6,
   "metadata": {},
   "outputs": [
    {
     "name": "stdout",
     "output_type": "stream",
     "text": [
      "root\n",
      " |-- Index: integer (nullable = true)\n",
      " |-- Artist: string (nullable = true)\n",
      " |-- Url_spotify: string (nullable = true)\n",
      " |-- Track: string (nullable = true)\n",
      " |-- Album: string (nullable = true)\n",
      " |-- Album_type: string (nullable = true)\n",
      " |-- Uri: string (nullable = true)\n",
      " |-- Danceability: double (nullable = true)\n",
      " |-- Energy: double (nullable = true)\n",
      " |-- Key: double (nullable = true)\n",
      " |-- Loudness: double (nullable = true)\n",
      " |-- Speechiness: double (nullable = true)\n",
      " |-- Acousticness: double (nullable = true)\n",
      " |-- Instrumentalness: double (nullable = true)\n",
      " |-- Liveness: double (nullable = true)\n",
      " |-- Valence: double (nullable = true)\n",
      " |-- Tempo: double (nullable = true)\n",
      " |-- Duration_ms: double (nullable = true)\n",
      " |-- Url_youtube: string (nullable = true)\n",
      " |-- Title: string (nullable = true)\n",
      " |-- Channel: string (nullable = true)\n",
      " |-- Views: double (nullable = true)\n",
      " |-- Likes: double (nullable = true)\n",
      " |-- Comments: double (nullable = true)\n",
      " |-- Description: string (nullable = true)\n",
      " |-- Licensed: boolean (nullable = true)\n",
      " |-- official_video: boolean (nullable = true)\n",
      " |-- Stream: long (nullable = true)\n",
      "\n"
     ]
    }
   ],
   "source": [
    "df.printSchema()"
   ]
  },
  {
   "cell_type": "markdown",
   "metadata": {},
   "source": [
    "<h3><b>3.Menghitung Jumlah Null Pada Setiap Kolom</b></h3>"
   ]
  },
  {
   "cell_type": "code",
   "execution_count": 7,
   "metadata": {},
   "outputs": [],
   "source": [
    "# Membuat Fungsi Untuk Menghitung Jumlah Data Kosong Pada Setiap Kolom\n",
    "def hitungColumnNull(dataset):\n",
    "    tempList = []\n",
    "    for kolom in dataset.columns:\n",
    "        tempTuple = (kolom,dataset.filter(df[kolom].isNull()).count())\n",
    "        tempList.append(tempTuple)\n",
    "    schema = StructType([\n",
    "        StructField('Column',StringType(),True),\n",
    "        StructField('Jumlah',IntegerType(),True)\n",
    "    ])\n",
    "    rdd = spark.sparkContext.parallelize(tempList)\n",
    "    result = spark.createDataFrame(rdd,schema)\n",
    "    return result"
   ]
  },
  {
   "cell_type": "code",
   "execution_count": 8,
   "metadata": {},
   "outputs": [
    {
     "name": "stderr",
     "output_type": "stream",
     "text": [
      "23/11/01 20:30:38 WARN CSVHeaderChecker: CSV header does not conform to the schema.\n",
      " Header: \n",
      " Schema: _c0\n",
      "Expected: _c0 but found: \n",
      "CSV file: file:///home/haik/Desktop/BDPAL%20UTS/Spotify_Youtube.csv\n",
      "                                                                                \r"
     ]
    },
    {
     "name": "stdout",
     "output_type": "stream",
     "text": [
      "+----------------+------+\n",
      "|          Column|Jumlah|\n",
      "+----------------+------+\n",
      "|           Index|     0|\n",
      "|          Artist|     0|\n",
      "|     Url_spotify|     0|\n",
      "|           Track|     0|\n",
      "|           Album|     0|\n",
      "|      Album_type|     0|\n",
      "|             Uri|     0|\n",
      "|    Danceability|     2|\n",
      "|          Energy|     2|\n",
      "|             Key|     2|\n",
      "|        Loudness|     2|\n",
      "|     Speechiness|     2|\n",
      "|    Acousticness|     2|\n",
      "|Instrumentalness|     2|\n",
      "|        Liveness|     2|\n",
      "|         Valence|     2|\n",
      "|           Tempo|     2|\n",
      "|     Duration_ms|     2|\n",
      "|     Url_youtube|   470|\n",
      "|           Title|   470|\n",
      "|         Channel|   470|\n",
      "|           Views|   470|\n",
      "|           Likes|   541|\n",
      "|        Comments|   569|\n",
      "|     Description|   876|\n",
      "|        Licensed|   470|\n",
      "|  official_video|   470|\n",
      "|          Stream|   576|\n",
      "+----------------+------+\n",
      "\n"
     ]
    }
   ],
   "source": [
    "jumlahValueNull = hitungColumnNull(df)\n",
    "jumlahValueNull.show(len(df.columns))"
   ]
  },
  {
   "cell_type": "markdown",
   "metadata": {},
   "source": [
    "<h3><b>4.Melihat Deskripsi Numeric Dari Semua Kolom</b></h3>"
   ]
  },
  {
   "cell_type": "code",
   "execution_count": 9,
   "metadata": {},
   "outputs": [
    {
     "name": "stderr",
     "output_type": "stream",
     "text": [
      "23/11/01 20:31:14 WARN CSVHeaderChecker: CSV header does not conform to the schema.\n",
      " Header: , Artist, Url_spotify, Track, Album, Album_type, Uri, Danceability, Energy, Key, Loudness, Speechiness, Acousticness, Instrumentalness, Liveness, Valence, Tempo, Duration_ms, Url_youtube, Title, Channel, Views, Likes, Comments, Description, Stream\n",
      " Schema: _c0, Artist, Url_spotify, Track, Album, Album_type, Uri, Danceability, Energy, Key, Loudness, Speechiness, Acousticness, Instrumentalness, Liveness, Valence, Tempo, Duration_ms, Url_youtube, Title, Channel, Views, Likes, Comments, Description, Stream\n",
      "Expected: _c0 but found: \n",
      "CSV file: file:///home/haik/Desktop/BDPAL%20UTS/Spotify_Youtube.csv\n",
      "[Stage 92:>                                                         (0 + 1) / 1]\r"
     ]
    },
    {
     "name": "stdout",
     "output_type": "stream",
     "text": [
      "+-------+----------------+--------+--------------------+----------------------+----------------------------------+----------+--------------------+-------------------+-------------------+------------------+------------------+-------------------+-------------------+-------------------+-------------------+------------------+------------------+------------------+--------------------+--------------------+--------------------+-------------------+------------------+------------------+--------------------+--------------------+\n",
      "|summary|           Index|  Artist|         Url_spotify|                 Track|                             Album|Album_type|                 Uri|       Danceability|             Energy|               Key|          Loudness|        Speechiness|       Acousticness|   Instrumentalness|           Liveness|           Valence|             Tempo|       Duration_ms|         Url_youtube|               Title|             Channel|              Views|             Likes|          Comments|         Description|              Stream|\n",
      "+-------+----------------+--------+--------------------+----------------------+----------------------------------+----------+--------------------+-------------------+-------------------+------------------+------------------+-------------------+-------------------+-------------------+-------------------+------------------+------------------+------------------+--------------------+--------------------+--------------------+-------------------+------------------+------------------+--------------------+--------------------+\n",
      "|  count|           20718|   20718|               20718|                 20718|                             20718|     20718|               20718|              20716|              20716|             20716|             20716|              20716|              20716|              20716|              20716|             20716|             20716|             20716|               20248|               20248|               20248|              20248|             20177|             20149|               19842|               20142|\n",
      "|   mean|         10358.5|   112.0|                null|              Infinity|                          Infinity|      null|                null| 0.6197774522108509| 0.6352503492131717| 5.300347557443522|-7.671680343695746|0.09645600502027434| 0.2915353498271865| 0.0559615577143274|0.19352099826221267|0.5298533240007675|120.63833993048716|224717.57902104652|                null|              2002.0|            239431.0|9.393782113329712E7| 663341.0613074292|27518.993696957667|   785.3333333333334|1.3594219038298082E8|\n",
      "| stddev|5980.91577436098|     0.0|                null|                   NaN|                               NaN|      null|                null|0.16527238893983806|0.21414683000068746|3.5764485443081533| 4.632748577001429|0.11196002833219384|0.28629881638496957|0.19326203308369422| 0.1685309014103465|0.2454408088266606|29.579017547851723|124790.54260998225|                null|                null|  413593.19961527415|2.746443220046217E8|1789324.2482217248|193234.68935062198|  1079.3573705373644|2.4413207782384798E8|\n",
      "|    min|               0|    $NOT|https://open.spot...|      !ly (feat. Coez)|              !Volare! The Very...|     album|spotify:track:001...|                0.0|            2.03E-5|               0.0|           -46.251|                0.0|            1.11E-6|                0.0|             0.0145|               0.0|               0.0|           30985.0|https://www.youtu...|\" LOS MUROS CAERÁ...|        Khalkho 4119|                0.0|               0.0|               0.0|\\n.. (montage by ...|                6574|\n",
      "|    max|           20717|Øneheart|https://open.spot...|링가링가 (RINGA LINGA)|龍が如く0 誓いの場所 オリジナル...|    single|spotify:track:7zy...|              0.975|                1.0|              11.0|              0.92|              0.964|              0.996|                1.0|                1.0|             0.993|           243.372|         4676058.0|https://www.youtu...|🔴 Alejandra Guzm...|𝙖𝙙𝙧𝙚𝙣𝙖𝙡𝙞𝙣𝙣|      8.079649362E9|       5.0788652E7|       1.6083138E7|🧨❤️Soy latINNA, ...|          3386520288|\n",
      "+-------+----------------+--------+--------------------+----------------------+----------------------------------+----------+--------------------+-------------------+-------------------+------------------+------------------+-------------------+-------------------+-------------------+-------------------+------------------+------------------+------------------+--------------------+--------------------+--------------------+-------------------+------------------+------------------+--------------------+--------------------+\n",
      "\n"
     ]
    },
    {
     "name": "stderr",
     "output_type": "stream",
     "text": [
      "                                                                                \r"
     ]
    }
   ],
   "source": [
    "df.describe().show()"
   ]
  },
  {
   "cell_type": "markdown",
   "metadata": {},
   "source": [
    "<h3><b>5.Membenarkan Nama Kolom Menjadi Lower Case</b></h3>"
   ]
  },
  {
   "cell_type": "code",
   "execution_count": 10,
   "metadata": {},
   "outputs": [],
   "source": [
    "columnName = df.columns"
   ]
  },
  {
   "cell_type": "code",
   "execution_count": 11,
   "metadata": {},
   "outputs": [],
   "source": [
    "for col in columnName:\n",
    "    df = df.withColumnRenamed(col,col.lower())"
   ]
  },
  {
   "cell_type": "markdown",
   "metadata": {},
   "source": [
    "<h2><b>EDA</b></h2>"
   ]
  },
  {
   "cell_type": "markdown",
   "metadata": {},
   "source": [
    "<h4><b>2a.Tampilkan ringkasan statistik dari atribut 'Danceability', 'Energy', dan\n",
    "'Valence'. Berikan interpretasi atas distribusi nilai-nilai tersebut.</b></h4>"
   ]
  },
  {
   "cell_type": "code",
   "execution_count": 12,
   "metadata": {},
   "outputs": [],
   "source": [
    "dataStats = df.describe('danceability', 'energy', 'valence')"
   ]
  },
  {
   "cell_type": "code",
   "execution_count": 13,
   "metadata": {},
   "outputs": [
    {
     "name": "stderr",
     "output_type": "stream",
     "text": [
      "[Stage 93:>                                                         (0 + 1) / 1]\r"
     ]
    },
    {
     "name": "stdout",
     "output_type": "stream",
     "text": [
      "+-------+-------------------+-------------------+------------------+\n",
      "|summary|       danceability|             energy|           valence|\n",
      "+-------+-------------------+-------------------+------------------+\n",
      "|  count|              20716|              20716|             20716|\n",
      "|   mean| 0.6197774522108509| 0.6352503492131717|0.5298533240007675|\n",
      "| stddev|0.16527238893983806|0.21414683000068746|0.2454408088266606|\n",
      "|    min|                0.0|            2.03E-5|               0.0|\n",
      "|    max|              0.975|                1.0|             0.993|\n",
      "+-------+-------------------+-------------------+------------------+\n",
      "\n"
     ]
    },
    {
     "name": "stderr",
     "output_type": "stream",
     "text": [
      "                                                                                \r"
     ]
    }
   ],
   "source": [
    "dataStats.show()"
   ]
  },
  {
   "cell_type": "markdown",
   "metadata": {},
   "source": [
    "<p>Pada Deskripsi 3 Kolom Dataset yaitu Danceability,Energy,Dan Valence Di Temukan Beberapa Informasi Diantaranya : </p>\n",
    "<ul>\n",
    "    <li>1.Melihat Nilai Rata-Rata Kolom Dancebility Di Simpulkan Bahwa Banyak Musik Dalam Dataset Dapat Di Jadikan Iringan Pada Tarian Atau Lagu Yang Dapat Untuk Menari</li>\n",
    "    <li>2.Pada Rata=Rata Kolom 'Energy' disimpulkan bahwa 0,6 secara tidak langsung ada lebih banyak lagu yang memiliki lyrik yang terasa cepat,keras serta berisik lebih mendominasi dalam dataset ini daripada tipe musik yang berlyric pelan,Bahkan jika dilihat ada musik yang memiliki energy sebanyak 1 atau tipe musik metal</li>\n",
    "    <li>3.Dengan Melihat Rata-Rata Nilai Valence Dapat kita simpulkan bahwa Rata2 Musik pada dataset menggambarkan kepositifan lagu yang standar,dan pada nilai minimal valence pada dataset yaitu 0,0 yang memiliki tipe musik sedih dan nilai maksimal 0,993 yang memiliki tipe lagu hampir sempurna membawa kepositifan bahagia</li>\n",
    "</ul>"
   ]
  },
  {
   "cell_type": "markdown",
   "metadata": {},
   "source": [
    "<h4><b>2b.Identifikasi dan berikan daftar 5 lagu dengan 'Speechiness' tertinggi,\n",
    "lalu berikan analisis singkat tentang karakteristik musik dari lagu-lagu\n",
    "ini.</b></h4>"
   ]
  },
  {
   "cell_type": "code",
   "execution_count": 33,
   "metadata": {},
   "outputs": [
    {
     "name": "stderr",
     "output_type": "stream",
     "text": [
      "[Stage 126:>                                                        (0 + 1) / 1]\r"
     ]
    },
    {
     "name": "stdout",
     "output_type": "stream",
     "text": [
      "+--------------------+------------+------+--------+-----------+------+----------------+-----------+\n",
      "|               track|danceability|energy|loudness|speechiness| tempo|instrumentalness|duration_ms|\n",
      "+--------------------+------------+------+--------+-----------+------+----------------+-----------+\n",
      "|Teil 7 - Sherlock...|       0.625| 0.257| -15.375|      0.964|170.97|             0.0|   180202.0|\n",
      "|Teil 1 - Sherlock...|       0.641| 0.286| -14.945|      0.962|85.538|             0.0|    92378.0|\n",
      "|Kapitel 09: Der H...|       0.649| 0.257| -21.931|      0.961|90.661|             0.0|    94425.0|\n",
      "|Kapitel 11: Der H...|       0.694|   0.2| -18.887|      0.961|139.38|             0.0|    93900.0|\n",
      "|Teil 9 - Sherlock...|       0.674| 0.316| -19.952|       0.96|79.324|             0.0|   184499.0|\n",
      "+--------------------+------------+------+--------+-----------+------+----------------+-----------+\n",
      "only showing top 5 rows\n",
      "\n"
     ]
    },
    {
     "name": "stderr",
     "output_type": "stream",
     "text": [
      "                                                                                \r"
     ]
    }
   ],
   "source": [
    "selectedColumn = ['track','danceability','energy','loudness','speechiness','tempo','instrumentalness','duration_ms']\n",
    "df.select(selectedColumn).sort(df.speechiness,ascending=False).show(5)"
   ]
  },
  {
   "cell_type": "markdown",
   "metadata": {},
   "source": [
    "<p>Dalam Pencarian Data Berdasarkan Speechiness Di Temukan Beberapa Informasi : </p>\n",
    "<ul>\n",
    "    <li>Dari 5 Lagu tersebut dapat menjadi irama untuk menari di buktikan Dengan Daancebility > 0,5</li>\n",
    "    <li>Memiliki lyric yang terasa pelan dan suara pelan tidak berisik,dibuktikan dengan Energy < 0.4</li>\n",
    "    <li>Loudness pada daftar lagu diatas cukup keras di banding lagu lainnya</li>\n",
    "    <li>Speechiness tidak menentukan tempo,karena ada banyak kategori tempo dalam data lagu diatas</li>\n",
    "    <li>Dan Sekaligus membuktikan bahwa lagu dengan speechiness tinggi tidak memiliki instrumnetal dan lagu tersususun dengan vokal utama</li>\n",
    "</ul>"
   ]
  },
  {
   "cell_type": "markdown",
   "metadata": {},
   "source": [
    "<h4><b>2c.Hitung rata-rata dari atribut 'Tempo' lagu-lagu dalam dataset. Berikan\n",
    "insight tentang preferensi tempo dalam dataset ini.</b></h4>"
   ]
  },
  {
   "cell_type": "code",
   "execution_count": 15,
   "metadata": {},
   "outputs": [
    {
     "name": "stdout",
     "output_type": "stream",
     "text": [
      "+---------------------+\n",
      "|Rata-Rata Kolom tempo|\n",
      "+---------------------+\n",
      "|   120.63833993048716|\n",
      "+---------------------+\n",
      "\n"
     ]
    },
    {
     "name": "stderr",
     "output_type": "stream",
     "text": [
      "                                                                                \r"
     ]
    }
   ],
   "source": [
    "df.select(mean(df.tempo)).withColumnRenamed(\"avg(tempo)\",'Rata-Rata Kolom tempo').show()"
   ]
  },
  {
   "cell_type": "markdown",
   "metadata": {},
   "source": [
    "<p>Dengan menemukan rata-rata tempo musik dalam dataset bisa di simpulkan bahwa musik dalam dataset termasuk dalam lagu dengan tempo cepat,yang mencakup lagu lagu seperti genre pop,rock,serta hip hop.namun tidak semua lagu didataset adalah genre-genre tersebut.hanya saja dalam dataset di dominasi oleh genre-genre lagu seperti itu.</p>"
   ]
  },
  {
   "cell_type": "markdown",
   "metadata": {},
   "source": [
    "<h4><b>2d.Bandingkan rata-rata durasi lagu untuk lagu-lagu yang memiliki tempo\n",
    "di atas 120 BPM dengan yang di bawah 120 BPM.</b></h4>"
   ]
  },
  {
   "cell_type": "code",
   "execution_count": 37,
   "metadata": {},
   "outputs": [
    {
     "name": "stdout",
     "output_type": "stream",
     "text": [
      "+---------------------------------------------------+\n",
      "|Rata-Rata Durasi Lagu Dengan Tempo Di Bawah 120 BPM|\n",
      "+---------------------------------------------------+\n",
      "|                                  97.09293420927322|\n",
      "+---------------------------------------------------+\n",
      "\n"
     ]
    }
   ],
   "source": [
    "df.filter(df.tempo < 120).select(mean(df.tempo)).withColumnRenamed(\"avg(tempo)\",'Rata-Rata Durasi Lagu Dengan Tempo Di Bawah 120 BPM').show()"
   ]
  },
  {
   "cell_type": "code",
   "execution_count": 17,
   "metadata": {},
   "outputs": [
    {
     "name": "stderr",
     "output_type": "stream",
     "text": [
      "[Stage 103:>                                                        (0 + 1) / 1]\r"
     ]
    },
    {
     "name": "stdout",
     "output_type": "stream",
     "text": [
      "+--------------------------------------------------+\n",
      "|Rata-Rata Durasi Lagu Dengan Tempo Di Atas 120 BPM|\n",
      "+--------------------------------------------------+\n",
      "|                                221485.58542319748|\n",
      "+--------------------------------------------------+\n",
      "\n"
     ]
    },
    {
     "name": "stderr",
     "output_type": "stream",
     "text": [
      "                                                                                \r"
     ]
    }
   ],
   "source": [
    "df.filter(df.tempo > 120).select(mean(df.duration_ms)).withColumnRenamed(\"avg(duration_ms)\",'Rata-Rata Durasi Lagu Dengan Tempo Di Atas 120 BPM').show()"
   ]
  },
  {
   "cell_type": "markdown",
   "metadata": {},
   "source": [
    "<p>Dari Perbandingan di atas di temukan kesimpulan bahwa Rata-Rata Durasi Musik yang memiliki Tempo Dibawah 120 Jauh Lebih Rendah Di Bandingkan Lagu yang memiliki tempo di atas 120.Lagu yang memiliki tempo di atas 120 BPM memiliki durasi lebih Lama!!</p>"
   ]
  },
  {
   "cell_type": "markdown",
   "metadata": {},
   "source": [
    "<h4><b>2e.Temukan lagu-lagu dengan tingkat speechiness di atas 0.5 dan analisis\n",
    "apakah terdapat korelasi antara speechiness dan jumlah komentar di\n",
    "YouTube.</b></h4>"
   ]
  },
  {
   "cell_type": "code",
   "execution_count": 18,
   "metadata": {},
   "outputs": [
    {
     "name": "stderr",
     "output_type": "stream",
     "text": [
      "[Stage 106:>                                                        (0 + 1) / 1]\r"
     ]
    },
    {
     "name": "stdout",
     "output_type": "stream",
     "text": [
      "Korelasi Antara Speechiness Dan Jumlah Komentar :  -0.2389350588362453\n"
     ]
    },
    {
     "name": "stderr",
     "output_type": "stream",
     "text": [
      "                                                                                \r"
     ]
    }
   ],
   "source": [
    "print(\"Korelasi Antara Speechiness Dan Jumlah Komentar : \",df.filter(df.speechiness > 0.5).select('speechiness','comments').corr('speechiness','comments'))"
   ]
  },
  {
   "cell_type": "markdown",
   "metadata": {},
   "source": [
    "<p>Dengan Memfilter data yang memiliki nilai speechiness diatas 0,5 dan di cari korelasi pearsonnya di temukan sebesar -0,2.Angka tersebut mempresentasikan bahwa kolom speechiness dan comments berkorelasi negatif dan angka 0,2 mempresentasikan bahwa korelasi termasuk dalam kategori lemah dan tidak saling berkaitan</p>"
   ]
  },
  {
   "cell_type": "markdown",
   "metadata": {},
   "source": [
    "<h2><b>RDD OPERATION</b></h2>"
   ]
  },
  {
   "cell_type": "markdown",
   "metadata": {},
   "source": [
    "<h3><b>IMPORT DATASET RDD</b></h3>"
   ]
  },
  {
   "cell_type": "code",
   "execution_count": 19,
   "metadata": {},
   "outputs": [],
   "source": [
    "rdd = df.rdd"
   ]
  },
  {
   "cell_type": "markdown",
   "metadata": {},
   "source": [
    "<h3><b>1.Mencari Total Likes Dari Setiap Artis Musik dengan Operasi RDD</b></h3>"
   ]
  },
  {
   "cell_type": "code",
   "execution_count": 20,
   "metadata": {},
   "outputs": [],
   "source": [
    "dr = df.select('artist','likes').rdd\n",
    "total_likes = dr.filter(lambda x: x[1] is not None)\\\n",
    "    .map(lambda x: (x[0],x[1]))\\\n",
    "        .reduceByKey(lambda a, b: a + b)\\\n",
    "            .map(lambda x: (x[0],x[1] / 1000))\\\n",
    "                .sortByKey(ascending=False)"
   ]
  },
  {
   "cell_type": "code",
   "execution_count": 25,
   "metadata": {},
   "outputs": [
    {
     "name": "stdout",
     "output_type": "stream",
     "text": [
      "Øneheart Have Total Likes 1272167.0 \n",
      "Ñengo Flow Have Total Likes 6760340.0 \n",
      "Ñejo Have Total Likes 4348910.0 \n"
     ]
    }
   ],
   "source": [
    "for artis,like in total_likes.take(3):\n",
    "    print(f\"{artis} Have Total Likes {like*1000} \")"
   ]
  },
  {
   "cell_type": "markdown",
   "metadata": {},
   "source": [
    "<p>Percobaan di atas saya melakukan hal hal berikut : </p>\n",
    "<ul>\n",
    "    <li>Menggunakan fungsi filter untuk menyaring data pada kolom index ke 1 atau kolom likes yang tidak bernilai null</li>\n",
    "    <li>Menggunakan fungsi reduceByKey untuk menjumlahkan Likes dari setiap artis musik</li>\n",
    "    <li>Menggunakan fungsi sortByKey untuk mengurutkan artis mana yang memiliki Total Likes terbanyak secara descending</li>\n",
    "</ul>"
   ]
  },
  {
   "cell_type": "markdown",
   "metadata": {},
   "source": [
    "<h3><b>2.Mencari Jumlah Musik Yang Di Hasilkan Dari Setiap Artist Dengan Operasi RDD</b></h3>"
   ]
  },
  {
   "cell_type": "code",
   "execution_count": 22,
   "metadata": {},
   "outputs": [],
   "source": [
    "jm = df.select('artist','track').rdd"
   ]
  },
  {
   "cell_type": "code",
   "execution_count": 23,
   "metadata": {},
   "outputs": [
    {
     "name": "stderr",
     "output_type": "stream",
     "text": [
      "                                                                                \r"
     ]
    },
    {
     "name": "stdout",
     "output_type": "stream",
     "text": [
      "+-----------------+------------+\n",
      "|           Artist|Jumlah Musik|\n",
      "+-----------------+------------+\n",
      "|     Bootie Brown|           1|\n",
      "|Stars Music Chile|           1|\n",
      "|            Jimin|           3|\n",
      "|  Alfonso Herrera|           6|\n",
      "|            Shubh|           6|\n",
      "|         NewJeans|           6|\n",
      "|      Ananya Bhat|           7|\n",
      "|  Miggy Dela Rosa|           7|\n",
      "|             dazy|           7|\n",
      "|       FIFA Sound|           7|\n",
      "+-----------------+------------+\n",
      "only showing top 10 rows\n",
      "\n"
     ]
    }
   ],
   "source": [
    "jmg = jm.groupByKey().map(lambda x: (x[0], len(list(x[1])))).sortBy(lambda x: x[1],ascending=True).toDF()\n",
    "jmg.withColumnRenamed('_1','Artist').withColumnRenamed('_2','Jumlah Musik').show(10)"
   ]
  },
  {
   "cell_type": "markdown",
   "metadata": {},
   "source": [
    "<p>Pada Percobaan Di Atas Saya Melakukan Aksi Berikut : </p>\n",
    "<ul>\n",
    "    <li>Menggunakan Fungsi groupByKey Untuk Mengelompokkan track berdasarkan Artis</li>\n",
    "    <li>Menggunakan Fungsi map untuk menghitung jumlah track yang sudah di kelompokkan dengan fungsi python len</li>\n",
    "    <li>Menggunakan Fungsi sortBy untuk mengurutkan data berdasarkan index ke-1 atau jumlah musik secara ascending</li>\n",
    "    <li>Untuk langkah terakhir saya merubah rdd menjadi DataFrame dengan fungsi toDF()</li>\n",
    "</ul>"
   ]
  },
  {
   "cell_type": "markdown",
   "metadata": {},
   "source": [
    "<h2><b>KESIMPULAN</b></h2>"
   ]
  },
  {
   "cell_type": "markdown",
   "metadata": {},
   "source": [
    "<p>Kesimpulan dengan melakukan percobaan ini adalah kita dapat mengetahui apa tujuan dari dataset ini serta kita dapat melakukan dan memanipulasi data dengan apache spark dan Python,Diketahui juga bahwa dengan menggunakan apache spark kita mampu untuk mengolah data bahkan memprediksi data dalam dataset.</p>"
   ]
  }
 ],
 "metadata": {
  "kernelspec": {
   "display_name": "BigData",
   "language": "python",
   "name": "python3"
  },
  "language_info": {
   "codemirror_mode": {
    "name": "ipython",
    "version": 3
   },
   "file_extension": ".py",
   "mimetype": "text/x-python",
   "name": "python",
   "nbconvert_exporter": "python",
   "pygments_lexer": "ipython3",
   "version": "3.10.10"
  }
 },
 "nbformat": 4,
 "nbformat_minor": 2
}
